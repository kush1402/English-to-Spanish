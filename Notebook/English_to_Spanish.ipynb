{
  "cells": [
    {
      "cell_type": "markdown",
      "metadata": {
        "id": "WqMbkcwgaWSn"
      },
      "source": [
        "# **Importing the libraries**"
      ]
    },
    {
      "cell_type": "code",
      "execution_count": 1,
      "metadata": {
        "id": "uPwBExxNe5ff"
      },
      "outputs": [],
      "source": [
        "import pandas as pd\n",
        "import numpy as np\n",
        "import matplotlib.pyplot as plt\n",
        "\n",
        "import string\n",
        "from string import digits\n",
        "import re\n",
        "\n",
        "from sklearn.utils import shuffle\n",
        "from sklearn.model_selection import train_test_split\n",
        "from keras.layers import Input, LSTM, Embedding, Dense\n",
        "from keras.models import Model"
      ]
    },
    {
      "cell_type": "markdown",
      "metadata": {
        "id": "0GCxoAL3afG2"
      },
      "source": [
        "# **Check if the GPU is available on Colab**"
      ]
    },
    {
      "cell_type": "code",
      "execution_count": 2,
      "metadata": {
        "id": "btWYgQBlfmCY"
      },
      "outputs": [],
      "source": [
        "# %tensorflow_version 2.x\n",
        "# import tensorflow as tf\n",
        "# device_name = tf.test.gpu_device_name()\n",
        "# if device_name != '/device:GPU:0':\n",
        "#   raise SystemError('GPU device not found')\n",
        "# print('Found GPU at: {}'.format(device_name))"
      ]
    },
    {
      "cell_type": "markdown",
      "metadata": {
        "id": "ji1xyU9PalFT"
      },
      "source": [
        "# **Read Data into a dataframe**"
      ]
    },
    {
      "cell_type": "code",
      "execution_count": 3,
      "metadata": {
        "colab": {
          "base_uri": "https://localhost:8080/",
          "height": 363
        },
        "id": "7xIq_w6QfkZm",
        "outputId": "6ebd754e-4bf6-4e7f-a759-35930709abc6"
      },
      "outputs": [
        {
          "data": {
            "text/html": [
              "<div>\n",
              "<style scoped>\n",
              "    .dataframe tbody tr th:only-of-type {\n",
              "        vertical-align: middle;\n",
              "    }\n",
              "\n",
              "    .dataframe tbody tr th {\n",
              "        vertical-align: top;\n",
              "    }\n",
              "\n",
              "    .dataframe thead th {\n",
              "        text-align: right;\n",
              "    }\n",
              "</style>\n",
              "<table border=\"1\" class=\"dataframe\">\n",
              "  <thead>\n",
              "    <tr style=\"text-align: right;\">\n",
              "      <th></th>\n",
              "      <th>English</th>\n",
              "      <th>Spanish</th>\n",
              "      <th>Comments</th>\n",
              "    </tr>\n",
              "  </thead>\n",
              "  <tbody>\n",
              "    <tr>\n",
              "      <th>118865</th>\n",
              "      <td>This bedroom doesn't get very much sunlight.</td>\n",
              "      <td>Esta habitación no recibe mucha luz solar.</td>\n",
              "      <td>CC-BY 2.0 (France) Attribution: tatoeba.org #1...</td>\n",
              "    </tr>\n",
              "    <tr>\n",
              "      <th>81355</th>\n",
              "      <td>I can explain everything to you.</td>\n",
              "      <td>Te lo puedo explicar todo.</td>\n",
              "      <td>CC-BY 2.0 (France) Attribution: tatoeba.org #2...</td>\n",
              "    </tr>\n",
              "    <tr>\n",
              "      <th>17701</th>\n",
              "      <td>The night is dark.</td>\n",
              "      <td>La noche es oscura.</td>\n",
              "      <td>CC-BY 2.0 (France) Attribution: tatoeba.org #1...</td>\n",
              "    </tr>\n",
              "    <tr>\n",
              "      <th>90871</th>\n",
              "      <td>Is there a restaurant around here?</td>\n",
              "      <td>¿Hay algún restaurante por aquí?</td>\n",
              "      <td>CC-BY 2.0 (France) Attribution: tatoeba.org #7...</td>\n",
              "    </tr>\n",
              "    <tr>\n",
              "      <th>8095</th>\n",
              "      <td>She grew roses.</td>\n",
              "      <td>Ella cultivó rosas.</td>\n",
              "      <td>CC-BY 2.0 (France) Attribution: tatoeba.org #3...</td>\n",
              "    </tr>\n",
              "    <tr>\n",
              "      <th>130925</th>\n",
              "      <td>This is considered to be a matter of great imp...</td>\n",
              "      <td>Esto es considerado un asunto de gran importan...</td>\n",
              "      <td>CC-BY 2.0 (France) Attribution: tatoeba.org #5...</td>\n",
              "    </tr>\n",
              "    <tr>\n",
              "      <th>85853</th>\n",
              "      <td>I don't feel like going shopping.</td>\n",
              "      <td>No tengo ganas de ir de compras.</td>\n",
              "      <td>CC-BY 2.0 (France) Attribution: tatoeba.org #9...</td>\n",
              "    </tr>\n",
              "    <tr>\n",
              "      <th>128326</th>\n",
              "      <td>She is capable of teaching both English and Fr...</td>\n",
              "      <td>Ella es capaz de enseñar tanto inglés como fra...</td>\n",
              "      <td>CC-BY 2.0 (France) Attribution: tatoeba.org #3...</td>\n",
              "    </tr>\n",
              "    <tr>\n",
              "      <th>44425</th>\n",
              "      <td>It's almost time to eat.</td>\n",
              "      <td>Es casi la hora de comer.</td>\n",
              "      <td>CC-BY 2.0 (France) Attribution: tatoeba.org #6...</td>\n",
              "    </tr>\n",
              "    <tr>\n",
              "      <th>77259</th>\n",
              "      <td>I know very little beyond that.</td>\n",
              "      <td>Más allá de eso, apenas conozco nada.</td>\n",
              "      <td>CC-BY 2.0 (France) Attribution: tatoeba.org #5...</td>\n",
              "    </tr>\n",
              "  </tbody>\n",
              "</table>\n",
              "</div>"
            ],
            "text/plain": [
              "                                                  English  \\\n",
              "118865       This bedroom doesn't get very much sunlight.   \n",
              "81355                    I can explain everything to you.   \n",
              "17701                                  The night is dark.   \n",
              "90871                  Is there a restaurant around here?   \n",
              "8095                                      She grew roses.   \n",
              "130925  This is considered to be a matter of great imp...   \n",
              "85853                   I don't feel like going shopping.   \n",
              "128326  She is capable of teaching both English and Fr...   \n",
              "44425                            It's almost time to eat.   \n",
              "77259                     I know very little beyond that.   \n",
              "\n",
              "                                                  Spanish  \\\n",
              "118865         Esta habitación no recibe mucha luz solar.   \n",
              "81355                          Te lo puedo explicar todo.   \n",
              "17701                                 La noche es oscura.   \n",
              "90871                    ¿Hay algún restaurante por aquí?   \n",
              "8095                                  Ella cultivó rosas.   \n",
              "130925  Esto es considerado un asunto de gran importan...   \n",
              "85853                    No tengo ganas de ir de compras.   \n",
              "128326  Ella es capaz de enseñar tanto inglés como fra...   \n",
              "44425                           Es casi la hora de comer.   \n",
              "77259               Más allá de eso, apenas conozco nada.   \n",
              "\n",
              "                                                 Comments  \n",
              "118865  CC-BY 2.0 (France) Attribution: tatoeba.org #1...  \n",
              "81355   CC-BY 2.0 (France) Attribution: tatoeba.org #2...  \n",
              "17701   CC-BY 2.0 (France) Attribution: tatoeba.org #1...  \n",
              "90871   CC-BY 2.0 (France) Attribution: tatoeba.org #7...  \n",
              "8095    CC-BY 2.0 (France) Attribution: tatoeba.org #3...  \n",
              "130925  CC-BY 2.0 (France) Attribution: tatoeba.org #5...  \n",
              "85853   CC-BY 2.0 (France) Attribution: tatoeba.org #9...  \n",
              "128326  CC-BY 2.0 (France) Attribution: tatoeba.org #3...  \n",
              "44425   CC-BY 2.0 (France) Attribution: tatoeba.org #6...  \n",
              "77259   CC-BY 2.0 (France) Attribution: tatoeba.org #5...  "
            ]
          },
          "execution_count": 3,
          "metadata": {},
          "output_type": "execute_result"
        }
      ],
      "source": [
        "data= pd.read_table('spa.txt',  names =['English', 'Spanish', 'Comments'])\n",
        "# data = data[:10000]\n",
        "data.sample(10)"
      ]
    },
    {
      "cell_type": "code",
      "execution_count": 4,
      "metadata": {
        "id": "1TffXhqTfloy"
      },
      "outputs": [],
      "source": [
        "data.English = data.English.apply(lambda word: word.lower())\n",
        "data.Spanish = data.Spanish.apply(lambda word: word.lower())"
      ]
    },
    {
      "cell_type": "markdown",
      "metadata": {
        "id": "WKRmkSjoayx4"
      },
      "source": [
        "# **Remove Special characters**"
      ]
    },
    {
      "cell_type": "code",
      "execution_count": 5,
      "metadata": {
        "id": "ngiZFrLYf1gV"
      },
      "outputs": [],
      "source": [
        "data.English = data.English.apply(lambda word: re.sub(\"'\", '', word))\n",
        "data.Spanish = data.Spanish.apply(lambda word: re.sub(\"'\", '', word))"
      ]
    },
    {
      "cell_type": "code",
      "execution_count": 6,
      "metadata": {
        "id": "6FcuYSPjf4pg"
      },
      "outputs": [],
      "source": [
        "Punctuations = set(string.punctuation)\n",
        "data.English = data.English.apply(lambda word: ''.join(char for char in word if char not in Punctuations))\n",
        "data.Spanish = data.Spanish.apply(lambda word: ''.join(char for char in word if char not in Punctuations))"
      ]
    },
    {
      "cell_type": "code",
      "execution_count": 7,
      "metadata": {
        "id": "BYWTAI3-f7TY"
      },
      "outputs": [],
      "source": [
        "num_digits = str.maketrans('', '', digits)\n",
        "data.English = data.English.apply(lambda x: x.translate(num_digits))\n",
        "data.Spanish = data.Spanish.apply(lambda x: x.translate(num_digits))"
      ]
    },
    {
      "cell_type": "markdown",
      "metadata": {
        "id": "GRrPnQoBbFhx"
      },
      "source": [
        "# **Remove extra spaces**"
      ]
    },
    {
      "cell_type": "code",
      "execution_count": 8,
      "metadata": {
        "id": "OcTD-ZvKf9ZE"
      },
      "outputs": [],
      "source": [
        "data.English = data.English.apply(lambda spaces: spaces.strip())\n",
        "data.Spanish = data.Spanish.apply(lambda spaces: spaces.strip())"
      ]
    },
    {
      "cell_type": "code",
      "execution_count": 9,
      "metadata": {
        "id": "M9v-ZeSRf_KG"
      },
      "outputs": [],
      "source": [
        "data.English=data.English.apply(lambda x: re.sub(\" +\", \" \", x))\n",
        "data.Spanish=data.Spanish.apply(lambda x: re.sub(\" +\", \" \", x))"
      ]
    },
    {
      "cell_type": "markdown",
      "metadata": {
        "id": "JO2QpQQhbLfT"
      },
      "source": [
        "# **Add start and end token to target sentence**"
      ]
    },
    {
      "cell_type": "code",
      "execution_count": 10,
      "metadata": {
        "colab": {
          "base_uri": "https://localhost:8080/",
          "height": 363
        },
        "id": "5XpgbcTZgIxF",
        "outputId": "13db63b6-4c61-46f9-f622-526848285f28"
      },
      "outputs": [
        {
          "data": {
            "text/html": [
              "<div>\n",
              "<style scoped>\n",
              "    .dataframe tbody tr th:only-of-type {\n",
              "        vertical-align: middle;\n",
              "    }\n",
              "\n",
              "    .dataframe tbody tr th {\n",
              "        vertical-align: top;\n",
              "    }\n",
              "\n",
              "    .dataframe thead th {\n",
              "        text-align: right;\n",
              "    }\n",
              "</style>\n",
              "<table border=\"1\" class=\"dataframe\">\n",
              "  <thead>\n",
              "    <tr style=\"text-align: right;\">\n",
              "      <th></th>\n",
              "      <th>English</th>\n",
              "      <th>Spanish</th>\n",
              "      <th>Comments</th>\n",
              "    </tr>\n",
              "  </thead>\n",
              "  <tbody>\n",
              "    <tr>\n",
              "      <th>51671</th>\n",
              "      <td>whos your favorite poet</td>\n",
              "      <td>START_ ¿cuál es tu poeta favorito _END</td>\n",
              "      <td>CC-BY 2.0 (France) Attribution: tatoeba.org #9...</td>\n",
              "    </tr>\n",
              "    <tr>\n",
              "      <th>120593</th>\n",
              "      <td>they say that he has been dead for two years</td>\n",
              "      <td>START_ dicen que él lleva dos años muerto _END</td>\n",
              "      <td>CC-BY 2.0 (France) Attribution: tatoeba.org #2...</td>\n",
              "    </tr>\n",
              "    <tr>\n",
              "      <th>49631</th>\n",
              "      <td>my hobby is playing golf</td>\n",
              "      <td>START_ mi pasatiempo es jugar golf _END</td>\n",
              "      <td>CC-BY 2.0 (France) Attribution: tatoeba.org #2...</td>\n",
              "    </tr>\n",
              "    <tr>\n",
              "      <th>105388</th>\n",
              "      <td>tom told me he didnt have to do that</td>\n",
              "      <td>START_ tom me dijo que él no tenía que hacer e...</td>\n",
              "      <td>CC-BY 2.0 (France) Attribution: tatoeba.org #6...</td>\n",
              "    </tr>\n",
              "    <tr>\n",
              "      <th>97421</th>\n",
              "      <td>i got up at sixthirty this morning</td>\n",
              "      <td>START_ me levanté a las seis y media esta maña...</td>\n",
              "      <td>CC-BY 2.0 (France) Attribution: tatoeba.org #6...</td>\n",
              "    </tr>\n",
              "    <tr>\n",
              "      <th>118258</th>\n",
              "      <td>im sure everything will work out just fine</td>\n",
              "      <td>START_ estoy seguro de que todo saldrá bien _END</td>\n",
              "      <td>CC-BY 2.0 (France) Attribution: tatoeba.org #2...</td>\n",
              "    </tr>\n",
              "    <tr>\n",
              "      <th>100282</th>\n",
              "      <td>he must be crazy to say such a thing</td>\n",
              "      <td>START_ debe de estar loco para decir algo así ...</td>\n",
              "      <td>CC-BY 2.0 (France) Attribution: tatoeba.org #4...</td>\n",
              "    </tr>\n",
              "    <tr>\n",
              "      <th>62927</th>\n",
              "      <td>i have a bad headache today</td>\n",
              "      <td>START_ hoy tengo un fuerte dolor de cabeza _END</td>\n",
              "      <td>CC-BY 2.0 (France) Attribution: tatoeba.org #2...</td>\n",
              "    </tr>\n",
              "    <tr>\n",
              "      <th>106516</th>\n",
              "      <td>i dont know how to say this in french</td>\n",
              "      <td>START_ no sé cómo decir esto en francés _END</td>\n",
              "      <td>CC-BY 2.0 (France) Attribution: tatoeba.org #6...</td>\n",
              "    </tr>\n",
              "    <tr>\n",
              "      <th>136543</th>\n",
              "      <td>tom doesnt eat anything except the vegetables ...</td>\n",
              "      <td>START_ tom no come nada aparte de las verduras...</td>\n",
              "      <td>CC-BY 2.0 (France) Attribution: tatoeba.org #1...</td>\n",
              "    </tr>\n",
              "  </tbody>\n",
              "</table>\n",
              "</div>"
            ],
            "text/plain": [
              "                                                  English  \\\n",
              "51671                             whos your favorite poet   \n",
              "120593       they say that he has been dead for two years   \n",
              "49631                            my hobby is playing golf   \n",
              "105388               tom told me he didnt have to do that   \n",
              "97421                  i got up at sixthirty this morning   \n",
              "118258         im sure everything will work out just fine   \n",
              "100282               he must be crazy to say such a thing   \n",
              "62927                         i have a bad headache today   \n",
              "106516              i dont know how to say this in french   \n",
              "136543  tom doesnt eat anything except the vegetables ...   \n",
              "\n",
              "                                                  Spanish  \\\n",
              "51671              START_ ¿cuál es tu poeta favorito _END   \n",
              "120593     START_ dicen que él lleva dos años muerto _END   \n",
              "49631             START_ mi pasatiempo es jugar golf _END   \n",
              "105388  START_ tom me dijo que él no tenía que hacer e...   \n",
              "97421   START_ me levanté a las seis y media esta maña...   \n",
              "118258   START_ estoy seguro de que todo saldrá bien _END   \n",
              "100282  START_ debe de estar loco para decir algo así ...   \n",
              "62927     START_ hoy tengo un fuerte dolor de cabeza _END   \n",
              "106516       START_ no sé cómo decir esto en francés _END   \n",
              "136543  START_ tom no come nada aparte de las verduras...   \n",
              "\n",
              "                                                 Comments  \n",
              "51671   CC-BY 2.0 (France) Attribution: tatoeba.org #9...  \n",
              "120593  CC-BY 2.0 (France) Attribution: tatoeba.org #2...  \n",
              "49631   CC-BY 2.0 (France) Attribution: tatoeba.org #2...  \n",
              "105388  CC-BY 2.0 (France) Attribution: tatoeba.org #6...  \n",
              "97421   CC-BY 2.0 (France) Attribution: tatoeba.org #6...  \n",
              "118258  CC-BY 2.0 (France) Attribution: tatoeba.org #2...  \n",
              "100282  CC-BY 2.0 (France) Attribution: tatoeba.org #4...  \n",
              "62927   CC-BY 2.0 (France) Attribution: tatoeba.org #2...  \n",
              "106516  CC-BY 2.0 (France) Attribution: tatoeba.org #6...  \n",
              "136543  CC-BY 2.0 (France) Attribution: tatoeba.org #1...  "
            ]
          },
          "execution_count": 10,
          "metadata": {},
          "output_type": "execute_result"
        }
      ],
      "source": [
        "data.Spanish = data.Spanish.apply(lambda sentence : 'START_ '+ sentence + ' _END')\n",
        "data.sample(10)"
      ]
    },
    {
      "cell_type": "markdown",
      "metadata": {
        "id": "1ZA4ptxbbS2B"
      },
      "source": [
        "# **Create Vocuabaly of English and Spanish words**"
      ]
    },
    {
      "cell_type": "code",
      "execution_count": 11,
      "metadata": {
        "id": "84A9_3bOgLUp"
      },
      "outputs": [],
      "source": [
        "English_words = set()\n",
        "for English in data.English:\n",
        "    for word in English.split():\n",
        "        if word not in English_words:\n",
        "            English_words.add(word)\n",
        "\n",
        "\n",
        "Spanish_words=set()\n",
        "for Spanish in data.Spanish:\n",
        "    for word in Spanish.split():\n",
        "        if word not in Spanish_words:\n",
        "            Spanish_words.add(word)\n",
        "\n",
        "\n",
        "English_words = sorted(list(English_words))\n",
        "Spanish_words = sorted(list(Spanish_words))"
      ]
    },
    {
      "cell_type": "markdown",
      "metadata": {
        "id": "vXuI1AGwbaF1"
      },
      "source": [
        "# **Maximum length for padding**"
      ]
    },
    {
      "cell_type": "code",
      "execution_count": 12,
      "metadata": {
        "colab": {
          "base_uri": "https://localhost:8080/"
        },
        "id": "3peHO_mRgbpO",
        "outputId": "dba4b963-4914-47a4-d90b-dd74fbc16145"
      },
      "outputs": [
        {
          "name": "stdout",
          "output_type": "stream",
          "text": [
            " Max length of the English sentence 70\n",
            " Max length of the Spanish sentence 70\n"
          ]
        }
      ],
      "source": [
        "English_length_list=[]\n",
        "for sentence in data.English:\n",
        "    English_length_list.append(len(sentence.split(' ')))\n",
        "max_English_length= max(English_length_list)\n",
        "print(\" Max length of the English sentence\",max_English_length)\n",
        "\n",
        "Spanish_length_list=[]\n",
        "for sentence in data.Spanish:\n",
        "    Spanish_length_list.append(len(sentence.split(' ')))\n",
        "max_Spanish_length= max(Spanish_length_list)\n",
        "print(\" Max length of the Spanish sentence\",max_Spanish_length)"
      ]
    },
    {
      "cell_type": "markdown",
      "metadata": {
        "id": "ksbbWQCvbl4a"
      },
      "source": [
        "# **Word to index and vice versa dictionary**"
      ]
    },
    {
      "cell_type": "code",
      "execution_count": 13,
      "metadata": {
        "id": "o9z_Z5UOghD8"
      },
      "outputs": [],
      "source": [
        "English_word2idx = dict([(word, index+1) for index, word in enumerate(English_words)])\n",
        "Spanish_word2idx = dict([(word, index+1) for index, word in enumerate(Spanish_words)])\n",
        "vocab_size_Spanish = len(Spanish_word2idx) + 1"
      ]
    },
    {
      "cell_type": "code",
      "execution_count": 14,
      "metadata": {
        "id": "ra3QHhJbhSn1"
      },
      "outputs": [],
      "source": [
        "English_idx2word = dict([(index, word) for word, index in  English_word2idx.items()])\n",
        "Spanish_idx2word = dict([(index, word) for word, index in Spanish_word2idx.items()])\n",
        "\n",
        "# print(English_idx2word, Spanish_idx2word)"
      ]
    },
    {
      "cell_type": "markdown",
      "metadata": {
        "id": "QQHBAA-dbsei"
      },
      "source": [
        "# **Shuffle the data to get randomness**"
      ]
    },
    {
      "cell_type": "code",
      "execution_count": 15,
      "metadata": {
        "id": "bTZKY29JhVg7"
      },
      "outputs": [],
      "source": [
        "#Shuffle the data\n",
        "data = shuffle(data)"
      ]
    },
    {
      "cell_type": "markdown",
      "metadata": {
        "id": "jov3GYYQbxES"
      },
      "source": [
        "# **Split into train and test**"
      ]
    },
    {
      "cell_type": "code",
      "execution_count": 16,
      "metadata": {
        "colab": {
          "base_uri": "https://localhost:8080/"
        },
        "id": "AtX3sMoPhXSi",
        "outputId": "67947a08-4cb0-4707-de3c-f557a6f286e8"
      },
      "outputs": [
        {
          "data": {
            "text/plain": [
              "((124596,), (13844,))"
            ]
          },
          "execution_count": 16,
          "metadata": {},
          "output_type": "execute_result"
        }
      ],
      "source": [
        "x, y = data.English, data.Spanish\n",
        "x_train, x_test, y_train, y_test = train_test_split(x, y, test_size = 0.1)\n",
        "x_train.shape, x_test.shape"
      ]
    },
    {
      "cell_type": "code",
      "execution_count": 17,
      "metadata": {
        "id": "0ebclI0rha06"
      },
      "outputs": [],
      "source": [
        "num_encoder_tokens = len(English_words)\n",
        "num_decoder_tokens = len(Spanish_words) + 1"
      ]
    },
    {
      "cell_type": "markdown",
      "metadata": {
        "id": "DYQxZdRvb5vA"
      },
      "source": [
        "# **Function to generate batches of data**"
      ]
    },
    {
      "cell_type": "code",
      "execution_count": 18,
      "metadata": {
        "id": "w8h6yRnEhioT"
      },
      "outputs": [],
      "source": [
        "def generate_batch(X = x_train, y = y_train, batch_size = 128):\n",
        "    ''' Generate a batch of data '''\n",
        "    while True:\n",
        "        for batches in range(0, len(X), batch_size):\n",
        "            encoder_input_data = np.zeros((batch_size, max_English_length),dtype='float32')\n",
        "            decoder_input_data = np.zeros((batch_size, max_Spanish_length),dtype='float32')\n",
        "            decoder_Spanish_data = np.zeros((batch_size, max_Spanish_length, num_decoder_tokens),dtype='float32')\n",
        "            for i, (input_text, Spanish_text) in enumerate(zip(X[batches:batches+batch_size], y[batches:batches+batch_size])):\n",
        "                for t, word in enumerate(input_text.split()):\n",
        "                  encoder_input_data[i, t] = English_word2idx[word] \n",
        "                for t, word in enumerate(Spanish_text.split()):\n",
        "                    if t<len(Spanish_text.split())-1:\n",
        "                        decoder_input_data[i, t] = Spanish_word2idx[word]\n",
        "                    if t>0:\n",
        "                        decoder_Spanish_data[i, t - 1, Spanish_word2idx[word]] = 1.\n",
        "                    \n",
        "            yield([encoder_input_data, decoder_input_data], decoder_Spanish_data)"
      ]
    },
    {
      "cell_type": "code",
      "execution_count": 19,
      "metadata": {
        "id": "NEGMOnla2yiv"
      },
      "outputs": [],
      "source": [
        "latent_dim = 256 # number of nodes in NN"
      ]
    },
    {
      "cell_type": "markdown",
      "metadata": {
        "id": "Rs66b4cCcCFK"
      },
      "source": [
        "# **Set up the encoder input and LSTM architecture**"
      ]
    },
    {
      "cell_type": "code",
      "execution_count": 20,
      "metadata": {
        "id": "rkDPYjAaiH6e"
      },
      "outputs": [],
      "source": [
        "encoder_inputs = Input(shape=(None,))\n",
        "enc_emb =  Embedding(num_encoder_tokens, latent_dim, mask_zero = True)(encoder_inputs)\n",
        "\n",
        "\n",
        "encoder_lstm1 = LSTM(latent_dim, return_sequences=True, return_state=True)\n",
        "encoder_output1, state_h1, state_c1 = encoder_lstm1(enc_emb)\n",
        "\n",
        "encoder_lstm2 = LSTM(latent_dim, return_sequences=True, return_state=True)\n",
        "encoder_output2, state_h2, state_c2 = encoder_lstm2(encoder_output1)\n",
        "\n",
        "encoder_lstm3 = LSTM(latent_dim, return_state=True, return_sequences=True)\n",
        "encoder_outputs, state_h, state_c = encoder_lstm3(encoder_output2)\n",
        "\n",
        "encoder_states = [state_h, state_c]"
      ]
    },
    {
      "cell_type": "markdown",
      "metadata": {
        "id": "v03YEEohcI-2"
      },
      "source": [
        "# **The decoder architecture to follow**"
      ]
    },
    {
      "cell_type": "code",
      "execution_count": 21,
      "metadata": {
        "id": "u5tmZ9TiiJvM"
      },
      "outputs": [],
      "source": [
        "decoder_inputs = Input(shape=(None,))\n",
        "dec_emb_layer = Embedding(num_decoder_tokens, latent_dim, mask_zero = True)\n",
        "dec_emb = dec_emb_layer(decoder_inputs)\n",
        "\n",
        "decoder_lstm = LSTM(latent_dim, return_sequences=True, return_state=True)\n",
        "decoder_outputs, _, _ = decoder_lstm(dec_emb, initial_state=encoder_states)\n",
        "decoder_dense = Dense(num_decoder_tokens, activation='softmax')\n",
        "decoder_outputs = decoder_dense(decoder_outputs)"
      ]
    },
    {
      "cell_type": "code",
      "execution_count": 22,
      "metadata": {
        "colab": {
          "base_uri": "https://localhost:8080/"
        },
        "id": "3WUtAJxEedbr",
        "outputId": "b8f70574-8205-48c7-b12c-a6538aa48c29"
      },
      "outputs": [
        {
          "data": {
            "text/plain": [
              "<KerasTensor: shape=(None, None, 28735) dtype=float32 (created by layer 'dense')>"
            ]
          },
          "execution_count": 22,
          "metadata": {},
          "output_type": "execute_result"
        }
      ],
      "source": [
        "decoder_outputs"
      ]
    },
    {
      "cell_type": "markdown",
      "metadata": {
        "id": "o021CrwVcSG6"
      },
      "source": [
        "# **Concatenate with attention layer**"
      ]
    },
    {
      "cell_type": "code",
      "execution_count": 23,
      "metadata": {
        "id": "oDNkDAW7SKp9"
      },
      "outputs": [],
      "source": [
        "# from tensorflow.keras.layers import AdditiveAttention, Concatenate, TimeDistributed"
      ]
    },
    {
      "cell_type": "code",
      "execution_count": 24,
      "metadata": {
        "colab": {
          "base_uri": "https://localhost:8080/"
        },
        "id": "kbVlPW2Wd3M1",
        "outputId": "e0f795c6-372a-44d4-8b15-40860d74775c"
      },
      "outputs": [
        {
          "data": {
            "text/plain": [
              "(<KerasTensor: shape=(None, None, 256) dtype=float32 (created by layer 'lstm_2')>,\n",
              " <KerasTensor: shape=(None, None, 28735) dtype=float32 (created by layer 'dense')>)"
            ]
          },
          "execution_count": 24,
          "metadata": {},
          "output_type": "execute_result"
        }
      ],
      "source": [
        "encoder_outputs, decoder_outputs"
      ]
    },
    {
      "cell_type": "code",
      "execution_count": 25,
      "metadata": {
        "id": "AmS9sa5kSPGu"
      },
      "outputs": [],
      "source": [
        "# attention_result = AdditiveAttention(use_scale=True)([encoder_outputs, decoder_outputs])\n",
        "\n",
        "# decoder_concat_input = Concatenate(axis=-1, name='concat_layer')([decoder_outputs, attention_result])"
      ]
    },
    {
      "cell_type": "code",
      "execution_count": 26,
      "metadata": {
        "id": "IthGTat3Q4OQ"
      },
      "outputs": [],
      "source": [
        "# decoder_dense = Dense(num_decoder_tokens, activation='softmax')\n",
        "# decoder_outputs = decoder_dense(decoder_outputs)"
      ]
    },
    {
      "cell_type": "code",
      "execution_count": 27,
      "metadata": {
        "id": "DDiIxzVbSSuX"
      },
      "outputs": [],
      "source": [
        "# decoder_dense = TimeDistributed(Dense(vocab_size_Spanish, activation= 'softmax'))\n",
        "# decoder_outputs = decoder_dense(decoder_concat_input)"
      ]
    },
    {
      "cell_type": "markdown",
      "metadata": {
        "id": "T9wcDbYkca46"
      },
      "source": [
        "# **Defining the model**"
      ]
    },
    {
      "cell_type": "code",
      "execution_count": 28,
      "metadata": {
        "id": "Gb5X7Il8iMoN"
      },
      "outputs": [],
      "source": [
        "model = Model([encoder_inputs, decoder_inputs], decoder_outputs)"
      ]
    },
    {
      "cell_type": "code",
      "execution_count": 29,
      "metadata": {
        "id": "5_xOwGBQiQMl"
      },
      "outputs": [],
      "source": [
        "model.compile(optimizer='Adam', loss='categorical_crossentropy', metrics=['acc'])"
      ]
    },
    {
      "cell_type": "code",
      "execution_count": 30,
      "metadata": {
        "id": "44yEn96D4WvE"
      },
      "outputs": [],
      "source": [
        "import tensorflow as tf"
      ]
    },
    {
      "cell_type": "code",
      "execution_count": 31,
      "metadata": {
        "colab": {
          "base_uri": "https://localhost:8080/",
          "height": 703
        },
        "id": "tSPp733P2cqE",
        "outputId": "4f1fcbfe-769b-4bce-a03d-860725083108"
      },
      "outputs": [
        {
          "name": "stdout",
          "output_type": "stream",
          "text": [
            "You must install pydot (`pip install pydot`) and install graphviz (see instructions at https://graphviz.gitlab.io/download/) for plot_model to work.\n"
          ]
        }
      ],
      "source": [
        "tf.keras.utils.plot_model(model, to_file = \"model.png\", show_shapes = True)"
      ]
    },
    {
      "cell_type": "code",
      "execution_count": 32,
      "metadata": {
        "id": "mEbDQdvaiSCu"
      },
      "outputs": [],
      "source": [
        "train_samples = len(x_train)\n",
        "val_samples = len(x_test)\n",
        "batch_size = 128\n",
        "epochs = 12"
      ]
    },
    {
      "cell_type": "markdown",
      "metadata": {
        "id": "DqgqRVbucgTO"
      },
      "source": [
        "# **Training the model**"
      ]
    },
    {
      "cell_type": "code",
      "execution_count": 33,
      "metadata": {
        "id": "2zi_u5otiexj"
      },
      "outputs": [],
      "source": [
        "# model.fit_generator(generator = generate_batch(x_train, y_train, batch_size = batch_size),\n",
        "#                     steps_per_epoch = train_samples//batch_size,\n",
        "#                     epochs=epochs,\n",
        "#                     validation_data = generate_batch(x_test, y_test, batch_size = batch_size),\n",
        "#                     validation_steps = val_samples//batch_size)"
      ]
    },
    {
      "cell_type": "markdown",
      "metadata": {
        "id": "SURthCeIc4iO"
      },
      "source": [
        "# **Saving the h5 file**"
      ]
    },
    {
      "cell_type": "code",
      "execution_count": 34,
      "metadata": {
        "id": "uyfhiU4Xj7H-"
      },
      "outputs": [],
      "source": [
        "# model.save_weights('nmt_weights_12epoch.h5')"
      ]
    },
    {
      "cell_type": "code",
      "execution_count": 39,
      "metadata": {
        "id": "c2s0RQ3Zj9rA"
      },
      "outputs": [],
      "source": [
        "model.load_weights('D:\\\\PLACEMENT\\\\ML\\\\siddhardhan\\\\ML_CN\\\\resume\\\\English to Spanish Translation\\\\Notebook\\\\nmt_weights_12epoch (1).h5')"
      ]
    },
    {
      "cell_type": "markdown",
      "metadata": {
        "id": "KEG4GnhIc9GO"
      },
      "source": [
        "# **The inference set up**"
      ]
    },
    {
      "cell_type": "code",
      "execution_count": 40,
      "metadata": {
        "id": "1lU6mh6Zimrs"
      },
      "outputs": [],
      "source": [
        "encoder_model = Model(encoder_inputs, encoder_states)\n",
        "\n",
        "decoder_state_input_h = Input(shape=(latent_dim,))\n",
        "decoder_state_input_c = Input(shape=(latent_dim,))\n",
        "decoder_state_input = [decoder_state_input_h, decoder_state_input_c]\n",
        "\n",
        "dec_emb2 = dec_emb_layer(decoder_inputs)\n",
        "\n",
        "decoder_outputs2, state_h2, state_c2 = decoder_lstm(dec_emb2, initial_state=decoder_state_input)\n",
        "decoder_states2 = [state_h2, state_c2]\n",
        "\n",
        "decoder_outputs2 = decoder_dense(decoder_outputs2)\n",
        "\n",
        "decoder_model = Model([decoder_inputs] + decoder_state_input, [decoder_outputs2] + decoder_states2)"
      ]
    },
    {
      "cell_type": "markdown",
      "metadata": {
        "id": "3Sy9ABaygA2D"
      },
      "source": [
        "# **Decoding the numerical value into text**"
      ]
    },
    {
      "cell_type": "code",
      "execution_count": 41,
      "metadata": {
        "id": "l1Pw-PpzjXi5"
      },
      "outputs": [],
      "source": [
        "def decode_sequence(input_seq):\n",
        "  \n",
        "    states_value = encoder_model.predict(input_seq)\n",
        "    \n",
        "    Spanish_seq = np.zeros((1,1))\n",
        "    \n",
        "    Spanish_seq[0, 0] = Spanish_word2idx['START_']\n",
        "    \n",
        "    stop_condition = False\n",
        "    decoded_sentence = ''\n",
        "    while not stop_condition:\n",
        "        output_tokens, h, c = decoder_model.predict([Spanish_seq] + states_value)\n",
        "        \n",
        "        sampled_token_index = np.argmax(output_tokens[0, -1, :])\n",
        "        sampled_word =Spanish_idx2word[sampled_token_index]\n",
        "        decoded_sentence += ' '+ sampled_word\n",
        "        \n",
        "        if (sampled_word == '_END' or len(decoded_sentence) > 50):\n",
        "            stop_condition = True\n",
        "            \n",
        "        Spanish_seq = np.zeros((1,1))\n",
        "        Spanish_seq[0, 0] = sampled_token_index\n",
        "        \n",
        "        states_value = [h, c]\n",
        "    return decoded_sentence"
      ]
    },
    {
      "cell_type": "markdown",
      "metadata": {
        "id": "VEWFj5WwgEky"
      },
      "source": [
        "# **Predicting on the training dataset**"
      ]
    },
    {
      "cell_type": "code",
      "execution_count": 42,
      "metadata": {
        "id": "5pZk33TSjacO"
      },
      "outputs": [],
      "source": [
        "train_gen = generate_batch(x_train, y_train, batch_size = 1)\n",
        "k=-1"
      ]
    },
    {
      "cell_type": "code",
      "execution_count": 43,
      "metadata": {
        "colab": {
          "base_uri": "https://localhost:8080/"
        },
        "id": "y3s7yzvljcZt",
        "outputId": "fc954507-232f-410f-a158-9c35fcd1286b"
      },
      "outputs": [
        {
          "name": "stdout",
          "output_type": "stream",
          "text": [
            "1/1 [==============================] - 7s 7s/step\n",
            "1/1 [==============================] - 2s 2s/step\n",
            "1/1 [==============================] - 0s 34ms/step\n",
            "1/1 [==============================] - 0s 32ms/step\n",
            "1/1 [==============================] - 0s 28ms/step\n",
            "1/1 [==============================] - 0s 33ms/step\n",
            "Input English sentence: the shotgun went off\n",
            "Actual Spanish Translation:  se disparó la escopeta \n",
            "Predicted Spanish Translation:  se disparó la escopeta \n"
          ]
        }
      ],
      "source": [
        "k+=1\n",
        "(input_seq, actual_output), _ = next(train_gen)\n",
        "decoded_sentence = decode_sequence(input_seq)\n",
        "\n",
        "print('Input English sentence:', x_train[k:k+1].values[0])\n",
        "print('Actual Spanish Translation:', y_train[k:k+1].values[0][6:-4])\n",
        "print('Predicted Spanish Translation:', decoded_sentence[:-4])"
      ]
    },
    {
      "cell_type": "markdown",
      "metadata": {
        "id": "NRD-L2J-gLAj"
      },
      "source": [
        "# **Predicting on the custom input sentence**"
      ]
    },
    {
      "cell_type": "code",
      "execution_count": 44,
      "metadata": {
        "colab": {
          "base_uri": "https://localhost:8080/"
        },
        "id": "m7imKhgeVI0h",
        "outputId": "f0e2c21b-7cb1-4f66-90d7-9eb2b67ca261"
      },
      "outputs": [
        {
          "name": "stdout",
          "output_type": "stream",
          "text": [
            "1/1 [==============================] - 0s 77ms/step\n",
            "1/1 [==============================] - 0s 27ms/step\n",
            "1/1 [==============================] - 0s 25ms/step\n",
            "1/1 [==============================] - 0s 29ms/step\n",
            " ¿cómo estás \n"
          ]
        }
      ],
      "source": [
        "infer_sentence= \"how are you\"\n",
        "input_sentence = np.zeros((1, max_English_length),dtype='float32')\n",
        "for t, word in enumerate(infer_sentence.split()):\n",
        "  input_sentence[0, t] = English_word2idx[word]\n",
        "decoded_sentence = decode_sequence(input_sentence)\n",
        "print(decoded_sentence[:-4])"
      ]
    },
    {
      "cell_type": "markdown",
      "metadata": {
        "id": "8A56suy6Ssqa"
      },
      "source": [
        "# **Predicting on the custom sentence**"
      ]
    },
    {
      "cell_type": "code",
      "execution_count": 45,
      "metadata": {
        "colab": {
          "base_uri": "https://localhost:8080/"
        },
        "id": "PkPd9NbHseZp",
        "outputId": "2e6b9d0c-3946-495f-bc13-1632bc70e225"
      },
      "outputs": [],
      "source": [
        "!pip install -q gradio"
      ]
    },
    {
      "cell_type": "code",
      "execution_count": 46,
      "metadata": {
        "id": "7wtnvx_9tjFj"
      },
      "outputs": [],
      "source": [
        "import gradio as gr"
      ]
    },
    {
      "cell_type": "code",
      "execution_count": 47,
      "metadata": {
        "id": "79kJhlyNtl1V"
      },
      "outputs": [],
      "source": [
        "def translator(English_sentence):\n",
        "  input_sentence = np.zeros((1, max_English_length),dtype='float32')\n",
        "  for t, word in enumerate(English_sentence.split()):\n",
        "    input_sentence[0, t] = English_word2idx[word]\n",
        "  decoded_sentence = decode_sequence(input_sentence)\n",
        "  return decoded_sentence[:-4]"
      ]
    },
    {
      "cell_type": "code",
      "execution_count": 48,
      "metadata": {
        "id": "VqZqMFf7t-cK"
      },
      "outputs": [],
      "source": [
        "translate_interface = gr.Interface(\n",
        "    fn = translator,\n",
        "    inputs = \"text\",\n",
        "    outputs = \"text\",\n",
        "    title = \"English to Spanish Translation\"\n",
        ")"
      ]
    },
    {
      "cell_type": "code",
      "execution_count": 50,
      "metadata": {
        "colab": {
          "base_uri": "https://localhost:8080/",
          "height": 643
        },
        "id": "FQxpSwQfuENd",
        "outputId": "2eaf9c3e-4b88-444c-c2b8-fedeabded894"
      },
      "outputs": [
        {
          "name": "stdout",
          "output_type": "stream",
          "text": [
            "Rerunning server... use `close()` to stop if you need to change `launch()` parameters.\n",
            "----\n",
            "\n",
            "To create a public link, set `share=True` in `launch()`.\n"
          ]
        },
        {
          "data": {
            "text/html": [
              "<div><iframe src=\"http://127.0.0.1:7860/\" width=\"100%\" height=\"500\" allow=\"autoplay; camera; microphone; clipboard-read; clipboard-write;\" frameborder=\"0\" allowfullscreen></iframe></div>"
            ],
            "text/plain": [
              "<IPython.core.display.HTML object>"
            ]
          },
          "metadata": {},
          "output_type": "display_data"
        },
        {
          "name": "stdout",
          "output_type": "stream",
          "text": [
            "Keyboard interruption in main thread... closing server.\n"
          ]
        },
        {
          "data": {
            "text/plain": []
          },
          "execution_count": 50,
          "metadata": {},
          "output_type": "execute_result"
        }
      ],
      "source": [
        "translate_interface.launch(debug=True)"
      ]
    },
    {
      "cell_type": "code",
      "execution_count": null,
      "metadata": {},
      "outputs": [],
      "source": []
    }
  ],
  "metadata": {
    "colab": {
      "collapsed_sections": [],
      "name": "English to Spanish.ipynb",
      "provenance": []
    },
    "gpuClass": "standard",
    "kernelspec": {
      "display_name": "Python 3",
      "name": "python3"
    },
    "language_info": {
      "codemirror_mode": {
        "name": "ipython",
        "version": 3
      },
      "file_extension": ".py",
      "mimetype": "text/x-python",
      "name": "python",
      "nbconvert_exporter": "python",
      "pygments_lexer": "ipython3",
      "version": "3.11.3"
    }
  },
  "nbformat": 4,
  "nbformat_minor": 0
}
